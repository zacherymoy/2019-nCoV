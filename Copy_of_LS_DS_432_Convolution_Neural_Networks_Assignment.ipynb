{
  "nbformat": 4,
  "nbformat_minor": 0,
  "metadata": {
    "kernelspec": {
      "display_name": "U4-S2-NNF-DS10",
      "language": "python",
      "name": "u4-s2-nnf-ds10"
    },
    "language_info": {
      "codemirror_mode": {
        "name": "ipython",
        "version": 3
      },
      "file_extension": ".py",
      "mimetype": "text/x-python",
      "name": "python",
      "nbconvert_exporter": "python",
      "pygments_lexer": "ipython3",
      "version": "3.7.6"
    },
    "nteract": {
      "version": "0.23.1"
    },
    "colab": {
      "name": "Copy of LS_DS_432_Convolution_Neural_Networks_Assignment.ipynb",
      "provenance": [],
      "include_colab_link": true
    },
    "accelerator": "GPU"
  },
  "cells": [
    {
      "cell_type": "markdown",
      "metadata": {
        "id": "view-in-github",
        "colab_type": "text"
      },
      "source": [
        "<a href=\"https://colab.research.google.com/github/zacherymoy/2019-nCoV/blob/master/Copy_of_LS_DS_432_Convolution_Neural_Networks_Assignment.ipynb\" target=\"_parent\"><img src=\"https://colab.research.google.com/assets/colab-badge.svg\" alt=\"Open In Colab\"/></a>"
      ]
    },
    {
      "cell_type": "markdown",
      "metadata": {
        "id": "HXG8n5mjfsAY",
        "colab_type": "text"
      },
      "source": [
        "<img align=\"left\" src=\"https://lever-client-logos.s3.amazonaws.com/864372b1-534c-480e-acd5-9711f850815c-1524247202159.png\" width=200>\n",
        "<br></br>\n",
        "<br></br>\n",
        "\n",
        "## *Data Science Unit 4 Sprint 3 Assignment 2*\n",
        "# Convolutional Neural Networks (CNNs)"
      ]
    },
    {
      "cell_type": "markdown",
      "metadata": {
        "colab_type": "text",
        "id": "0lfZdD_cp1t5"
      },
      "source": [
        "# Assignment\n",
        "\n",
        "- <a href=\"#p1\">Part 1:</a> Pre-Trained Model\n",
        "- <a href=\"#p2\">Part 2:</a> Custom CNN Model\n",
        "- <a href=\"#p3\">Part 3:</a> CNN with Data Augmentation\n",
        "\n",
        "\n",
        "You will apply three different CNN models to a binary image classification model using Keras. Classify images of Mountains (`./data/train/mountain/*`) and images of forests (`./data/train/forest/*`). Treat mountains as the positive class (1) and the forest images as the negative (zero). \n",
        "\n",
        "|Mountain (+)|Forest (-)|\n",
        "|---|---|\n",
        "|![](https://github.com/zacherymoy/DS-Unit-4-Sprint-3-Deep-Learning/blob/master/module2-convolutional-neural-networks/data/train/mountain/art1131.jpg?raw=1)|![](https://github.com/zacherymoy/DS-Unit-4-Sprint-3-Deep-Learning/blob/master/module2-convolutional-neural-networks/data/validation/forest/cdmc317.jpg?raw=1)|\n",
        "\n",
        "The problem is relatively difficult given that the sample is tiny: there are about 350 observations per class. This sample size might be something that you can expect with prototyping an image classification problem/solution at work. Get accustomed to evaluating several different possible models."
      ]
    },
    {
      "cell_type": "markdown",
      "metadata": {
        "colab_type": "text",
        "id": "qSoOfA0FfsBH"
      },
      "source": [
        "# Pre - Trained Model\n",
        "<a id=\"p1\"></a>\n",
        "\n",
        "Load a pretrained network from Keras, [ResNet50](https://tfhub.dev/google/imagenet/resnet_v1_50/classification/1) - a 50 layer deep network trained to recognize [1000 objects](https://storage.googleapis.com/download.tensorflow.org/data/ImageNetLabels.txt). Starting usage:\n",
        "\n",
        "```python\n",
        "import numpy as np\n",
        "\n",
        "from tensorflow.keras.applications.resnet50 import ResNet50\n",
        "from tensorflow.keras.preprocessing import image\n",
        "from tensorflow.keras.applications.resnet50 import preprocess_input, decode_predictions\n",
        "\n",
        "from tensorflow.keras.layers import Dense, GlobalAveragePooling2D\n",
        "from tensorflow.keras.models import Model # This is the functional API\n",
        "\n",
        "resnet = ResNet50(weights='imagenet', include_top=False)\n",
        "\n",
        "```\n",
        "\n",
        "The `include_top` parameter in `ResNet50` will remove the full connected layers from the ResNet model. The next step is to turn off the training of the ResNet layers. We want to use the learned parameters without updating them in future training passes. \n",
        "\n",
        "```python\n",
        "for layer in resnet.layers:\n",
        "    layer.trainable = False\n",
        "```\n",
        "\n",
        "Using the Keras functional API, we will need to additional additional full connected layers to our model. We we removed the top layers, we removed all preivous fully connected layers. In other words, we kept only the feature processing portions of our network. You can expert with additional layers beyond what's listed here. The `GlobalAveragePooling2D` layer functions as a really fancy flatten function by taking the average of each of the last convolutional layer outputs (which is two dimensional still). \n",
        "\n",
        "```python\n",
        "x = resnet.output\n",
        "x = GlobalAveragePooling2D()(x) # This layer is a really fancy flatten\n",
        "x = Dense(1024, activation='relu')(x)\n",
        "predictions = Dense(1, activation='sigmoid')(x)\n",
        "model = Model(resnet.input, predictions)\n",
        "```\n",
        "\n",
        "Your assignment is to apply the transfer learning above to classify images of Mountains (`./data/train/mountain/*`) and images of forests (`./data/train/forest/*`). Treat mountains as the positive class (1) and the forest images as the negative (zero). \n",
        "\n",
        "Steps to complete assignment: \n",
        "1. Load in Image Data into numpy arrays (`X`) \n",
        "2. Create a `y` for the labels\n",
        "3. Train your model with pre-trained layers from resnet\n",
        "4. Report your model's accuracy"
      ]
    },
    {
      "cell_type": "markdown",
      "metadata": {
        "id": "qWRsv6VCfsBQ",
        "colab_type": "text"
      },
      "source": [
        "## Load in Data\n",
        "\n",
        "This surprisingly more difficult than it seems, because you are working with directories of images instead of a single file. This boiler plate will help you download a zipped version of the directory of images. The directory is organized into \"train\" and \"validation\" which you can use inside an `ImageGenerator` class to stream batches of images thru your model.  \n"
      ]
    },
    {
      "cell_type": "markdown",
      "metadata": {
        "id": "VoJS02DmfsBT",
        "colab_type": "text"
      },
      "source": [
        "### Download & Summarize the Data\n",
        "\n",
        "This step is completed for you. Just run the cells and review the results. "
      ]
    },
    {
      "cell_type": "code",
      "metadata": {
        "id": "zqeISuJffsBW",
        "colab_type": "code",
        "outputId": "b884d3cc-255b-48a0-c131-41597925b14f",
        "colab": {
          "base_uri": "https://localhost:8080/",
          "height": 51
        }
      },
      "source": [
        "import tensorflow as tf\n",
        "import os\n",
        "\n",
        "_URL = 'https://github.com/LambdaSchool/DS-Unit-4-Sprint-3-Deep-Learning/blob/master/module2-convolutional-neural-networks/data.zip?raw=true'\n",
        "\n",
        "path_to_zip = tf.keras.utils.get_file('./data.zip', origin=_URL, extract=True)\n",
        "PATH = os.path.join(os.path.dirname(path_to_zip), 'data')"
      ],
      "execution_count": 1,
      "outputs": [
        {
          "output_type": "stream",
          "text": [
            "Downloading data from https://github.com/LambdaSchool/DS-Unit-4-Sprint-3-Deep-Learning/blob/master/module2-convolutional-neural-networks/data.zip?raw=true\n",
            "42172416/42170838 [==============================] - 1s 0us/step\n"
          ],
          "name": "stdout"
        }
      ]
    },
    {
      "cell_type": "code",
      "metadata": {
        "id": "G6sZT0gKfsBr",
        "colab_type": "code",
        "colab": {}
      },
      "source": [
        "train_dir = os.path.join(PATH, 'train')\n",
        "validation_dir = os.path.join(PATH, 'validation')"
      ],
      "execution_count": 0,
      "outputs": []
    },
    {
      "cell_type": "code",
      "metadata": {
        "id": "VsiA4hJDfsB8",
        "colab_type": "code",
        "colab": {}
      },
      "source": [
        "train_mountain_dir = os.path.join(train_dir, 'mountain')  # directory with our training cat pictures\n",
        "train_forest_dir = os.path.join(train_dir, 'forest')  # directory with our training dog pictures\n",
        "validation_mountain_dir = os.path.join(validation_dir, 'mountain')  # directory with our validation cat pictures\n",
        "validation_forest_dir = os.path.join(validation_dir, 'forest')  # directory with our validation dog pictures"
      ],
      "execution_count": 0,
      "outputs": []
    },
    {
      "cell_type": "code",
      "metadata": {
        "id": "qQCYo9I_fsCM",
        "colab_type": "code",
        "colab": {}
      },
      "source": [
        "num_mountain_tr = len(os.listdir(train_mountain_dir))\n",
        "num_forest_tr = len(os.listdir(train_forest_dir))\n",
        "\n",
        "num_mountain_val = len(os.listdir(validation_mountain_dir))\n",
        "num_forest_val = len(os.listdir(validation_forest_dir))\n",
        "\n",
        "total_train = num_mountain_tr + num_forest_tr\n",
        "total_val = num_mountain_val + num_forest_val"
      ],
      "execution_count": 0,
      "outputs": []
    },
    {
      "cell_type": "code",
      "metadata": {
        "id": "1zZUHumvfsCZ",
        "colab_type": "code",
        "outputId": "d24ef4d6-bcb0-47b5-c32c-6f612e048a22",
        "colab": {
          "base_uri": "https://localhost:8080/",
          "height": 136
        }
      },
      "source": [
        "print('total training mountain images:', num_mountain_tr)\n",
        "print('total training forest images:', num_forest_tr)\n",
        "\n",
        "print('total validation mountain images:', num_mountain_val)\n",
        "print('total validation forest images:', num_forest_val)\n",
        "print(\"--\")\n",
        "print(\"Total training images:\", total_train)\n",
        "print(\"Total validation images:\", total_val)"
      ],
      "execution_count": 5,
      "outputs": [
        {
          "output_type": "stream",
          "text": [
            "total training mountain images: 254\n",
            "total training forest images: 270\n",
            "total validation mountain images: 125\n",
            "total validation forest images: 62\n",
            "--\n",
            "Total training images: 524\n",
            "Total validation images: 187\n"
          ],
          "name": "stdout"
        }
      ]
    },
    {
      "cell_type": "markdown",
      "metadata": {
        "id": "gcZYvZKkfsCl",
        "colab_type": "text"
      },
      "source": [
        "### Keras `ImageGenerator` to Process the Data\n",
        "\n",
        "This step is completed for you, but please review the code. The `ImageGenerator` class reads in batches of data from a directory and pass them to the model one batch at a time. Just like large text files, this method is advantageous, because it stifles the need to load a bunch of images into memory. \n",
        "\n",
        "Check out the documentation for this class method: [Keras `ImageGenerator` Class](https://keras.io/preprocessing/image/#imagedatagenerator-class). You'll expand it's use in the third assignment objective."
      ]
    },
    {
      "cell_type": "code",
      "metadata": {
        "id": "upcyStM9fsCs",
        "colab_type": "code",
        "colab": {}
      },
      "source": [
        "batch_size = 16\n",
        "epochs = 50\n",
        "IMG_HEIGHT = 224\n",
        "IMG_WIDTH = 224"
      ],
      "execution_count": 0,
      "outputs": []
    },
    {
      "cell_type": "code",
      "metadata": {
        "id": "K0iJvS0HfsDE",
        "colab_type": "code",
        "colab": {}
      },
      "source": [
        "from tensorflow.keras.preprocessing.image import ImageDataGenerator\n",
        "\n",
        "train_image_generator = ImageDataGenerator(rescale=1./255) # Generator for our training data\n",
        "validation_image_generator = ImageDataGenerator(rescale=1./255) # Generator for our validation data"
      ],
      "execution_count": 0,
      "outputs": []
    },
    {
      "cell_type": "code",
      "metadata": {
        "id": "LRz2ZV4ZfsDS",
        "colab_type": "code",
        "outputId": "c12aff71-6feb-4ef8-a88a-531b3fab9e54",
        "colab": {
          "base_uri": "https://localhost:8080/",
          "height": 34
        }
      },
      "source": [
        "train_data_gen = train_image_generator.flow_from_directory(batch_size=batch_size,\n",
        "                                                           directory=train_dir,\n",
        "                                                           shuffle=True,\n",
        "                                                           target_size=(IMG_HEIGHT, IMG_WIDTH),\n",
        "                                                           class_mode='binary')"
      ],
      "execution_count": 8,
      "outputs": [
        {
          "output_type": "stream",
          "text": [
            "Found 533 images belonging to 2 classes.\n"
          ],
          "name": "stdout"
        }
      ]
    },
    {
      "cell_type": "code",
      "metadata": {
        "id": "MCCNpyzWfsDg",
        "colab_type": "code",
        "outputId": "932b94af-d690-44f9-8b69-08a34cbbbcaf",
        "colab": {
          "base_uri": "https://localhost:8080/",
          "height": 34
        }
      },
      "source": [
        "val_data_gen = validation_image_generator.flow_from_directory(batch_size=batch_size,\n",
        "                                                              directory=validation_dir,\n",
        "                                                              target_size=(IMG_HEIGHT, IMG_WIDTH),\n",
        "                                                              class_mode='binary')"
      ],
      "execution_count": 9,
      "outputs": [
        {
          "output_type": "stream",
          "text": [
            "Found 195 images belonging to 2 classes.\n"
          ],
          "name": "stdout"
        }
      ]
    },
    {
      "cell_type": "markdown",
      "metadata": {
        "id": "idLE8yg6fsDs",
        "colab_type": "text"
      },
      "source": [
        "## Instatiate Model"
      ]
    },
    {
      "cell_type": "code",
      "metadata": {
        "id": "JjRA6sHEYPzh",
        "colab_type": "code",
        "colab": {
          "base_uri": "https://localhost:8080/",
          "height": 51
        },
        "outputId": "ed89dc7f-64bd-40e1-a01b-5eeb6d158a90"
      },
      "source": [
        "import numpy as np\n",
        " \n",
        "from tensorflow.keras.applications.resnet50 import ResNet50\n",
        "from tensorflow.keras.preprocessing import image\n",
        "from tensorflow.keras.applications.resnet50 import preprocess_input, decode_predictions\n",
        " \n",
        "from tensorflow.keras.layers import Dense, GlobalAveragePooling2D\n",
        "from tensorflow.keras.models import Model # This is the functional API\n",
        " \n",
        "resnet = ResNet50(weights='imagenet', include_top=False)\n",
        "\n",
        "for layer in resnet.layers:\n",
        "    layer.trainable = False\n",
        "\n",
        "x = resnet.output\n",
        "x = GlobalAveragePooling2D()(x) # This layer is a really fancy flatten\n",
        "x = Dense(1024, activation='relu')(x)\n",
        "predictions = Dense(1, activation='sigmoid')(x)\n",
        "model = Model(resnet.input, predictions)\n",
        "\n",
        "model.compile(optimizer='nadam',loss='binary_crossentropy',metrics=['accuracy'])"
      ],
      "execution_count": 10,
      "outputs": [
        {
          "output_type": "stream",
          "text": [
            "Downloading data from https://storage.googleapis.com/tensorflow/keras-applications/resnet/resnet50_weights_tf_dim_ordering_tf_kernels_notop.h5\n",
            "94773248/94765736 [==============================] - 1s 0us/step\n"
          ],
          "name": "stdout"
        }
      ]
    },
    {
      "cell_type": "code",
      "metadata": {
        "id": "rbUt_B7FYsxN",
        "colab_type": "code",
        "colab": {}
      },
      "source": [
        ""
      ],
      "execution_count": 0,
      "outputs": []
    },
    {
      "cell_type": "markdown",
      "metadata": {
        "id": "Z45V4AagfsED",
        "colab_type": "text"
      },
      "source": [
        "## Fit Model"
      ]
    },
    {
      "cell_type": "code",
      "metadata": {
        "id": "mW0ziEvsfsEF",
        "colab_type": "code",
        "outputId": "495553c3-8af7-4547-dbe2-308ac7353448",
        "colab": {
          "base_uri": "https://localhost:8080/",
          "height": 1000
        }
      },
      "source": [
        "history = model.fit(\n",
        "    train_data_gen,\n",
        "    steps_per_epoch=total_train // batch_size,\n",
        "    epochs=epochs,\n",
        "    validation_data=val_data_gen,\n",
        "    validation_steps=total_val // batch_size\n",
        ")"
      ],
      "execution_count": 11,
      "outputs": [
        {
          "output_type": "stream",
          "text": [
            "Epoch 1/50\n",
            "32/32 [==============================] - 3s 94ms/step - loss: 0.8063 - accuracy: 0.5828 - val_loss: 0.8181 - val_accuracy: 0.3466\n",
            "Epoch 2/50\n",
            "32/32 [==============================] - 2s 66ms/step - loss: 0.6511 - accuracy: 0.6228 - val_loss: 0.5459 - val_accuracy: 0.7159\n",
            "Epoch 3/50\n",
            "32/32 [==============================] - 2s 67ms/step - loss: 0.6415 - accuracy: 0.6727 - val_loss: 0.8213 - val_accuracy: 0.4034\n",
            "Epoch 4/50\n",
            "32/32 [==============================] - 2s 68ms/step - loss: 0.5910 - accuracy: 0.6766 - val_loss: 0.6504 - val_accuracy: 0.5852\n",
            "Epoch 5/50\n",
            "32/32 [==============================] - 2s 65ms/step - loss: 0.4861 - accuracy: 0.8064 - val_loss: 0.4857 - val_accuracy: 0.8182\n",
            "Epoch 6/50\n",
            "32/32 [==============================] - 2s 66ms/step - loss: 0.4703 - accuracy: 0.7844 - val_loss: 0.4327 - val_accuracy: 0.8466\n",
            "Epoch 7/50\n",
            "32/32 [==============================] - 2s 65ms/step - loss: 0.4553 - accuracy: 0.7844 - val_loss: 0.4817 - val_accuracy: 0.8182\n",
            "Epoch 8/50\n",
            "32/32 [==============================] - 2s 66ms/step - loss: 0.4415 - accuracy: 0.7904 - val_loss: 1.3546 - val_accuracy: 0.3864\n",
            "Epoch 9/50\n",
            "32/32 [==============================] - 2s 65ms/step - loss: 0.4758 - accuracy: 0.7585 - val_loss: 0.4578 - val_accuracy: 0.8125\n",
            "Epoch 10/50\n",
            "32/32 [==============================] - 2s 67ms/step - loss: 0.3864 - accuracy: 0.8263 - val_loss: 0.3508 - val_accuracy: 0.8580\n",
            "Epoch 11/50\n",
            "32/32 [==============================] - 2s 65ms/step - loss: 0.4275 - accuracy: 0.8064 - val_loss: 0.3580 - val_accuracy: 0.8693\n",
            "Epoch 12/50\n",
            "32/32 [==============================] - 2s 64ms/step - loss: 0.3107 - accuracy: 0.8842 - val_loss: 0.3739 - val_accuracy: 0.8011\n",
            "Epoch 13/50\n",
            "32/32 [==============================] - 2s 66ms/step - loss: 0.3474 - accuracy: 0.8583 - val_loss: 0.3309 - val_accuracy: 0.8580\n",
            "Epoch 14/50\n",
            "32/32 [==============================] - 2s 66ms/step - loss: 0.3093 - accuracy: 0.8762 - val_loss: 0.3189 - val_accuracy: 0.8409\n",
            "Epoch 15/50\n",
            "32/32 [==============================] - 2s 65ms/step - loss: 0.3707 - accuracy: 0.8283 - val_loss: 0.3232 - val_accuracy: 0.8295\n",
            "Epoch 16/50\n",
            "32/32 [==============================] - 2s 65ms/step - loss: 0.3633 - accuracy: 0.8383 - val_loss: 0.2711 - val_accuracy: 0.9205\n",
            "Epoch 17/50\n",
            "32/32 [==============================] - 2s 65ms/step - loss: 0.3209 - accuracy: 0.8802 - val_loss: 0.2786 - val_accuracy: 0.9205\n",
            "Epoch 18/50\n",
            "32/32 [==============================] - 2s 66ms/step - loss: 0.2471 - accuracy: 0.9162 - val_loss: 0.2739 - val_accuracy: 0.9034\n",
            "Epoch 19/50\n",
            "32/32 [==============================] - 2s 64ms/step - loss: 0.2655 - accuracy: 0.8802 - val_loss: 0.2464 - val_accuracy: 0.9432\n",
            "Epoch 20/50\n",
            "32/32 [==============================] - 2s 65ms/step - loss: 0.2915 - accuracy: 0.8822 - val_loss: 0.2668 - val_accuracy: 0.9091\n",
            "Epoch 21/50\n",
            "32/32 [==============================] - 2s 65ms/step - loss: 0.2636 - accuracy: 0.8982 - val_loss: 0.5284 - val_accuracy: 0.7841\n",
            "Epoch 22/50\n",
            "32/32 [==============================] - 2s 66ms/step - loss: 0.2651 - accuracy: 0.9022 - val_loss: 0.2991 - val_accuracy: 0.8864\n",
            "Epoch 23/50\n",
            "32/32 [==============================] - 2s 65ms/step - loss: 0.2113 - accuracy: 0.9261 - val_loss: 0.2239 - val_accuracy: 0.9148\n",
            "Epoch 24/50\n",
            "32/32 [==============================] - 2s 66ms/step - loss: 0.2461 - accuracy: 0.9022 - val_loss: 1.0021 - val_accuracy: 0.5398\n",
            "Epoch 25/50\n",
            "32/32 [==============================] - 2s 67ms/step - loss: 0.2838 - accuracy: 0.8842 - val_loss: 0.2763 - val_accuracy: 0.8580\n",
            "Epoch 26/50\n",
            "32/32 [==============================] - 2s 66ms/step - loss: 0.1858 - accuracy: 0.9421 - val_loss: 0.3399 - val_accuracy: 0.8068\n",
            "Epoch 27/50\n",
            "32/32 [==============================] - 2s 66ms/step - loss: 0.2435 - accuracy: 0.9002 - val_loss: 0.2342 - val_accuracy: 0.9148\n",
            "Epoch 28/50\n",
            "32/32 [==============================] - 2s 68ms/step - loss: 0.2397 - accuracy: 0.9002 - val_loss: 0.6115 - val_accuracy: 0.7216\n",
            "Epoch 29/50\n",
            "32/32 [==============================] - 2s 66ms/step - loss: 0.1920 - accuracy: 0.9281 - val_loss: 0.2108 - val_accuracy: 0.9375\n",
            "Epoch 30/50\n",
            "32/32 [==============================] - 2s 66ms/step - loss: 0.2283 - accuracy: 0.9242 - val_loss: 0.1977 - val_accuracy: 0.9375\n",
            "Epoch 31/50\n",
            "32/32 [==============================] - 2s 67ms/step - loss: 0.2816 - accuracy: 0.8802 - val_loss: 0.2307 - val_accuracy: 0.9318\n",
            "Epoch 32/50\n",
            "32/32 [==============================] - 2s 67ms/step - loss: 0.1653 - accuracy: 0.9541 - val_loss: 0.3236 - val_accuracy: 0.8523\n",
            "Epoch 33/50\n",
            "32/32 [==============================] - 2s 67ms/step - loss: 0.1918 - accuracy: 0.9281 - val_loss: 0.2173 - val_accuracy: 0.9318\n",
            "Epoch 34/50\n",
            "32/32 [==============================] - 2s 63ms/step - loss: 0.1788 - accuracy: 0.9301 - val_loss: 0.2677 - val_accuracy: 0.8920\n",
            "Epoch 35/50\n",
            "32/32 [==============================] - 2s 64ms/step - loss: 0.1437 - accuracy: 0.9521 - val_loss: 0.3016 - val_accuracy: 0.8636\n",
            "Epoch 36/50\n",
            "32/32 [==============================] - 2s 65ms/step - loss: 0.1626 - accuracy: 0.9242 - val_loss: 0.2299 - val_accuracy: 0.8864\n",
            "Epoch 37/50\n",
            "32/32 [==============================] - 2s 64ms/step - loss: 0.1791 - accuracy: 0.9361 - val_loss: 0.2127 - val_accuracy: 0.9318\n",
            "Epoch 38/50\n",
            "32/32 [==============================] - 2s 65ms/step - loss: 0.1355 - accuracy: 0.9481 - val_loss: 0.3626 - val_accuracy: 0.8466\n",
            "Epoch 39/50\n",
            "32/32 [==============================] - 2s 65ms/step - loss: 0.2094 - accuracy: 0.9162 - val_loss: 0.2235 - val_accuracy: 0.9375\n",
            "Epoch 40/50\n",
            "32/32 [==============================] - 2s 64ms/step - loss: 0.1300 - accuracy: 0.9521 - val_loss: 0.2206 - val_accuracy: 0.9318\n",
            "Epoch 41/50\n",
            "32/32 [==============================] - 2s 65ms/step - loss: 0.1650 - accuracy: 0.9281 - val_loss: 0.3410 - val_accuracy: 0.8523\n",
            "Epoch 42/50\n",
            "32/32 [==============================] - 2s 63ms/step - loss: 0.1437 - accuracy: 0.9461 - val_loss: 0.2063 - val_accuracy: 0.9318\n",
            "Epoch 43/50\n",
            "32/32 [==============================] - 2s 67ms/step - loss: 0.1234 - accuracy: 0.9561 - val_loss: 0.2324 - val_accuracy: 0.9148\n",
            "Epoch 44/50\n",
            "32/32 [==============================] - 2s 66ms/step - loss: 0.2079 - accuracy: 0.9281 - val_loss: 0.3222 - val_accuracy: 0.8693\n",
            "Epoch 45/50\n",
            "32/32 [==============================] - 2s 66ms/step - loss: 0.1278 - accuracy: 0.9541 - val_loss: 0.2541 - val_accuracy: 0.8977\n",
            "Epoch 46/50\n",
            "32/32 [==============================] - 2s 68ms/step - loss: 0.1581 - accuracy: 0.9321 - val_loss: 0.2001 - val_accuracy: 0.9375\n",
            "Epoch 47/50\n",
            "32/32 [==============================] - 2s 66ms/step - loss: 0.1753 - accuracy: 0.9281 - val_loss: 0.2152 - val_accuracy: 0.9148\n",
            "Epoch 48/50\n",
            "32/32 [==============================] - 2s 64ms/step - loss: 0.1204 - accuracy: 0.9541 - val_loss: 0.2205 - val_accuracy: 0.9318\n",
            "Epoch 49/50\n",
            "32/32 [==============================] - 2s 65ms/step - loss: 0.1266 - accuracy: 0.9461 - val_loss: 0.2567 - val_accuracy: 0.9091\n",
            "Epoch 50/50\n",
            "32/32 [==============================] - 2s 64ms/step - loss: 0.1044 - accuracy: 0.9541 - val_loss: 1.0556 - val_accuracy: 0.6648\n"
          ],
          "name": "stdout"
        }
      ]
    },
    {
      "cell_type": "markdown",
      "metadata": {
        "id": "6zxc0I08fsEQ",
        "colab_type": "text"
      },
      "source": [
        "# Custom CNN Model\n",
        "\n",
        "In this step, write and train your own convolutional neural network using Keras. You can use any architecture that suits you as long as it has at least one convolutional and one pooling layer at the beginning of the network - you can add more if you want. "
      ]
    },
    {
      "cell_type": "code",
      "metadata": {
        "id": "atIHtmNxfsES",
        "colab_type": "code",
        "colab": {
          "base_uri": "https://localhost:8080/",
          "height": 425
        },
        "outputId": "08551411-702f-44e1-d264-14c4e59aa3b8"
      },
      "source": [
        "# Define the Model\n",
        "from tensorflow.keras.models import Sequential, Model\n",
        "from tensorflow.keras.layers import Dense, Conv2D, MaxPool2D, Flatten\n",
        "\n",
        "model2 = Sequential()\n",
        "model2.add(Conv2D(32, (3, 3), activation='relu', input_shape=(224, 224, 3)))\n",
        "model2.add(MaxPool2D((2,2)))\n",
        "model2.add(Conv2D(64, (3, 3), activation='relu'))\n",
        "model2.add(MaxPool2D((2,2)))\n",
        "model2.add(Conv2D(64, (1, 1), activation='relu'))\n",
        "model2.add(Flatten())\n",
        "model2.add(Dense(64, activation='relu'))\n",
        "model2.add(Dense(1, activation='softmax'))\n",
        "\n",
        "model2.summary()"
      ],
      "execution_count": 12,
      "outputs": [
        {
          "output_type": "stream",
          "text": [
            "Model: \"sequential\"\n",
            "_________________________________________________________________\n",
            "Layer (type)                 Output Shape              Param #   \n",
            "=================================================================\n",
            "conv2d (Conv2D)              (None, 222, 222, 32)      896       \n",
            "_________________________________________________________________\n",
            "max_pooling2d (MaxPooling2D) (None, 111, 111, 32)      0         \n",
            "_________________________________________________________________\n",
            "conv2d_1 (Conv2D)            (None, 109, 109, 64)      18496     \n",
            "_________________________________________________________________\n",
            "max_pooling2d_1 (MaxPooling2 (None, 54, 54, 64)        0         \n",
            "_________________________________________________________________\n",
            "conv2d_2 (Conv2D)            (None, 54, 54, 64)        4160      \n",
            "_________________________________________________________________\n",
            "flatten (Flatten)            (None, 186624)            0         \n",
            "_________________________________________________________________\n",
            "dense_2 (Dense)              (None, 64)                11944000  \n",
            "_________________________________________________________________\n",
            "dense_3 (Dense)              (None, 1)                 65        \n",
            "=================================================================\n",
            "Total params: 11,967,617\n",
            "Trainable params: 11,967,617\n",
            "Non-trainable params: 0\n",
            "_________________________________________________________________\n"
          ],
          "name": "stdout"
        }
      ]
    },
    {
      "cell_type": "code",
      "metadata": {
        "id": "CCZFWu-kfsEi",
        "colab_type": "code",
        "colab": {}
      },
      "source": [
        "# Compile Model\n",
        "model2.compile(optimizer='nadam',loss='binary_crossentropy',metrics=['accuracy'])\n"
      ],
      "execution_count": 0,
      "outputs": []
    },
    {
      "cell_type": "code",
      "metadata": {
        "id": "7p_TtuQzfsEx",
        "colab_type": "code",
        "colab": {
          "base_uri": "https://localhost:8080/",
          "height": 1000
        },
        "outputId": "49748a5f-ad07-4f2a-ed64-c88e2bece4be"
      },
      "source": [
        "# Fit Model\n",
        "history2 = model2.fit(\n",
        "    train_data_gen,\n",
        "    steps_per_epoch=total_train // batch_size,\n",
        "    epochs=epochs,\n",
        "    validation_data=val_data_gen,\n",
        "    validation_steps=total_val // batch_size\n",
        ")"
      ],
      "execution_count": 14,
      "outputs": [
        {
          "output_type": "stream",
          "text": [
            "Epoch 1/50\n",
            "32/32 [==============================] - 2s 60ms/step - loss: 7.7007 - accuracy: 0.4950 - val_loss: 5.1986 - val_accuracy: 0.6591\n",
            "Epoch 2/50\n",
            "32/32 [==============================] - 2s 58ms/step - loss: 7.8225 - accuracy: 0.4870 - val_loss: 5.0253 - val_accuracy: 0.6705\n",
            "Epoch 3/50\n",
            "32/32 [==============================] - 2s 58ms/step - loss: 7.8529 - accuracy: 0.4850 - val_loss: 5.0253 - val_accuracy: 0.6705\n",
            "Epoch 4/50\n",
            "32/32 [==============================] - 2s 56ms/step - loss: 7.8225 - accuracy: 0.4870 - val_loss: 5.0253 - val_accuracy: 0.6705\n",
            "Epoch 5/50\n",
            "32/32 [==============================] - 2s 57ms/step - loss: 7.7920 - accuracy: 0.4890 - val_loss: 5.1986 - val_accuracy: 0.6591\n",
            "Epoch 6/50\n",
            "32/32 [==============================] - 2s 57ms/step - loss: 7.8833 - accuracy: 0.4830 - val_loss: 5.1986 - val_accuracy: 0.6591\n",
            "Epoch 7/50\n",
            "32/32 [==============================] - 2s 57ms/step - loss: 7.8225 - accuracy: 0.4870 - val_loss: 5.1120 - val_accuracy: 0.6648\n",
            "Epoch 8/50\n",
            "32/32 [==============================] - 2s 58ms/step - loss: 7.7920 - accuracy: 0.4890 - val_loss: 5.3719 - val_accuracy: 0.6477\n",
            "Epoch 9/50\n",
            "32/32 [==============================] - 2s 57ms/step - loss: 7.8529 - accuracy: 0.4850 - val_loss: 5.1120 - val_accuracy: 0.6648\n",
            "Epoch 10/50\n",
            "32/32 [==============================] - 2s 58ms/step - loss: 7.8529 - accuracy: 0.4850 - val_loss: 5.2852 - val_accuracy: 0.6534\n",
            "Epoch 11/50\n",
            "32/32 [==============================] - 2s 57ms/step - loss: 7.9138 - accuracy: 0.4810 - val_loss: 5.1986 - val_accuracy: 0.6591\n",
            "Epoch 12/50\n",
            "32/32 [==============================] - 2s 58ms/step - loss: 7.8225 - accuracy: 0.4870 - val_loss: 5.2852 - val_accuracy: 0.6534\n",
            "Epoch 13/50\n",
            "32/32 [==============================] - 2s 58ms/step - loss: 7.8529 - accuracy: 0.4850 - val_loss: 5.0253 - val_accuracy: 0.6705\n",
            "Epoch 14/50\n",
            "32/32 [==============================] - 2s 58ms/step - loss: 7.8529 - accuracy: 0.4850 - val_loss: 5.1986 - val_accuracy: 0.6591\n",
            "Epoch 15/50\n",
            "32/32 [==============================] - 2s 59ms/step - loss: 7.8225 - accuracy: 0.4870 - val_loss: 5.1986 - val_accuracy: 0.6591\n",
            "Epoch 16/50\n",
            "32/32 [==============================] - 2s 58ms/step - loss: 8.0051 - accuracy: 0.4750 - val_loss: 5.2852 - val_accuracy: 0.6534\n",
            "Epoch 17/50\n",
            "32/32 [==============================] - 2s 58ms/step - loss: 7.8225 - accuracy: 0.4870 - val_loss: 5.1120 - val_accuracy: 0.6648\n",
            "Epoch 18/50\n",
            "32/32 [==============================] - 2s 58ms/step - loss: 7.8225 - accuracy: 0.4870 - val_loss: 5.6318 - val_accuracy: 0.6307\n",
            "Epoch 19/50\n",
            "32/32 [==============================] - 2s 58ms/step - loss: 7.8529 - accuracy: 0.4850 - val_loss: 5.2852 - val_accuracy: 0.6534\n",
            "Epoch 20/50\n",
            "32/32 [==============================] - 2s 58ms/step - loss: 7.8927 - accuracy: 0.4824 - val_loss: 5.0253 - val_accuracy: 0.6705\n",
            "Epoch 21/50\n",
            "32/32 [==============================] - 2s 57ms/step - loss: 7.9138 - accuracy: 0.4810 - val_loss: 5.4585 - val_accuracy: 0.6420\n",
            "Epoch 22/50\n",
            "32/32 [==============================] - 2s 58ms/step - loss: 7.8833 - accuracy: 0.4830 - val_loss: 5.2852 - val_accuracy: 0.6534\n",
            "Epoch 23/50\n",
            "32/32 [==============================] - 2s 58ms/step - loss: 7.7920 - accuracy: 0.4890 - val_loss: 5.1120 - val_accuracy: 0.6648\n",
            "Epoch 24/50\n",
            "32/32 [==============================] - 2s 57ms/step - loss: 7.9138 - accuracy: 0.4810 - val_loss: 5.1986 - val_accuracy: 0.6591\n",
            "Epoch 25/50\n",
            "32/32 [==============================] - 2s 59ms/step - loss: 7.9138 - accuracy: 0.4810 - val_loss: 5.1120 - val_accuracy: 0.6648\n",
            "Epoch 26/50\n",
            "32/32 [==============================] - 2s 58ms/step - loss: 7.9138 - accuracy: 0.4810 - val_loss: 5.1120 - val_accuracy: 0.6648\n",
            "Epoch 27/50\n",
            "32/32 [==============================] - 2s 57ms/step - loss: 7.7920 - accuracy: 0.4890 - val_loss: 5.2852 - val_accuracy: 0.6534\n",
            "Epoch 28/50\n",
            "32/32 [==============================] - 2s 57ms/step - loss: 7.7312 - accuracy: 0.4930 - val_loss: 5.2852 - val_accuracy: 0.6534\n",
            "Epoch 29/50\n",
            "32/32 [==============================] - 2s 56ms/step - loss: 7.7312 - accuracy: 0.4930 - val_loss: 5.1986 - val_accuracy: 0.6591\n",
            "Epoch 30/50\n",
            "32/32 [==============================] - 2s 58ms/step - loss: 8.0660 - accuracy: 0.4711 - val_loss: 5.3719 - val_accuracy: 0.6477\n",
            "Epoch 31/50\n",
            "32/32 [==============================] - 2s 58ms/step - loss: 7.8529 - accuracy: 0.4850 - val_loss: 5.2852 - val_accuracy: 0.6534\n",
            "Epoch 32/50\n",
            "32/32 [==============================] - 2s 57ms/step - loss: 8.0051 - accuracy: 0.4750 - val_loss: 5.1986 - val_accuracy: 0.6591\n",
            "Epoch 33/50\n",
            "32/32 [==============================] - 2s 57ms/step - loss: 7.7920 - accuracy: 0.4890 - val_loss: 5.2852 - val_accuracy: 0.6534\n",
            "Epoch 34/50\n",
            "32/32 [==============================] - 2s 59ms/step - loss: 7.7616 - accuracy: 0.4910 - val_loss: 5.0253 - val_accuracy: 0.6705\n",
            "Epoch 35/50\n",
            "32/32 [==============================] - 2s 59ms/step - loss: 7.8331 - accuracy: 0.4863 - val_loss: 5.4585 - val_accuracy: 0.6420\n",
            "Epoch 36/50\n",
            "32/32 [==============================] - 2s 59ms/step - loss: 7.8833 - accuracy: 0.4830 - val_loss: 5.1986 - val_accuracy: 0.6591\n",
            "Epoch 37/50\n",
            "32/32 [==============================] - 2s 59ms/step - loss: 7.8225 - accuracy: 0.4870 - val_loss: 5.3719 - val_accuracy: 0.6477\n",
            "Epoch 38/50\n",
            "32/32 [==============================] - 2s 59ms/step - loss: 7.7920 - accuracy: 0.4890 - val_loss: 5.1986 - val_accuracy: 0.6591\n",
            "Epoch 39/50\n",
            "32/32 [==============================] - 2s 58ms/step - loss: 7.7616 - accuracy: 0.4910 - val_loss: 5.1986 - val_accuracy: 0.6591\n",
            "Epoch 40/50\n",
            "32/32 [==============================] - 2s 59ms/step - loss: 7.8529 - accuracy: 0.4850 - val_loss: 5.1986 - val_accuracy: 0.6591\n",
            "Epoch 41/50\n",
            "32/32 [==============================] - 2s 58ms/step - loss: 7.8529 - accuracy: 0.4850 - val_loss: 5.4585 - val_accuracy: 0.6420\n",
            "Epoch 42/50\n",
            "32/32 [==============================] - 2s 59ms/step - loss: 7.7616 - accuracy: 0.4910 - val_loss: 5.2852 - val_accuracy: 0.6534\n",
            "Epoch 43/50\n",
            "32/32 [==============================] - 2s 58ms/step - loss: 7.7616 - accuracy: 0.4910 - val_loss: 5.1986 - val_accuracy: 0.6591\n",
            "Epoch 44/50\n",
            "32/32 [==============================] - 2s 57ms/step - loss: 7.8529 - accuracy: 0.4850 - val_loss: 5.1120 - val_accuracy: 0.6648\n",
            "Epoch 45/50\n",
            "32/32 [==============================] - 2s 58ms/step - loss: 7.7007 - accuracy: 0.4950 - val_loss: 5.3719 - val_accuracy: 0.6477\n",
            "Epoch 46/50\n",
            "32/32 [==============================] - 2s 59ms/step - loss: 7.8629 - accuracy: 0.4844 - val_loss: 5.0253 - val_accuracy: 0.6705\n",
            "Epoch 47/50\n",
            "32/32 [==============================] - 2s 58ms/step - loss: 7.9138 - accuracy: 0.4810 - val_loss: 4.9387 - val_accuracy: 0.6761\n",
            "Epoch 48/50\n",
            "32/32 [==============================] - 2s 58ms/step - loss: 7.8833 - accuracy: 0.4830 - val_loss: 5.4585 - val_accuracy: 0.6420\n",
            "Epoch 49/50\n",
            "32/32 [==============================] - 2s 58ms/step - loss: 7.8529 - accuracy: 0.4850 - val_loss: 5.2852 - val_accuracy: 0.6534\n",
            "Epoch 50/50\n",
            "32/32 [==============================] - 2s 57ms/step - loss: 7.9442 - accuracy: 0.4790 - val_loss: 5.1120 - val_accuracy: 0.6648\n"
          ],
          "name": "stdout"
        }
      ]
    },
    {
      "cell_type": "markdown",
      "metadata": {
        "id": "oVVL-VxKfsE7",
        "colab_type": "text"
      },
      "source": [
        "# Custom CNN Model with Image Manipulations\n",
        "\n",
        "To simulate an increase in a sample of image, you can apply image manipulation techniques: cropping, rotation, stretching, etc. Luckily Keras has some handy functions for us to apply these techniques to our mountain and forest example. Simply, you should be able to modify our image generator for the problem. Check out these resources to help you get started: \n",
        "\n",
        "1. [Keras `ImageGenerator` Class](https://keras.io/preprocessing/image/#imagedatagenerator-class)\n",
        "2. [Building a powerful image classifier with very little data](https://blog.keras.io/building-powerful-image-classification-models-using-very-little-data.html)\n",
        " "
      ]
    },
    {
      "cell_type": "code",
      "metadata": {
        "id": "302yPtZDfsFB",
        "colab_type": "code",
        "colab": {
          "base_uri": "https://localhost:8080/",
          "height": 1000
        },
        "outputId": "1da7ae27-ad7f-4c3a-9707-4df34fc6f956"
      },
      "source": [
        "train_image_generator = ImageDataGenerator(\n",
        "    rotation_range=40,\n",
        "    width_shift_range=0.2,\n",
        "    height_shift_range=0.2,\n",
        "    rescale=1./255,\n",
        "    shear_range=0.2,\n",
        "    zoom_range=0.2,\n",
        "    horizontal_flip=True,\n",
        "    fill_mode='nearest'\n",
        ")\n",
        "validation_image_generator = ImageDataGenerator(\n",
        "    rotation_range=40,\n",
        "    width_shift_range=0.2,\n",
        "    height_shift_range=0.2,\n",
        "    rescale=1./255,\n",
        "    shear_range=0.2,\n",
        "    zoom_range=0.2,\n",
        "    horizontal_flip=True,\n",
        "    fill_mode='nearest'\n",
        ")\n",
        "train_data_gen = train_image_generator.flow_from_directory(batch_size=batch_size,\n",
        "                                                           directory=train_dir,\n",
        "                                                           shuffle=True,\n",
        "                                                           target_size=(IMG_HEIGHT, IMG_WIDTH),\n",
        "                                                           class_mode='binary')\n",
        "val_data_gen = validation_image_generator.flow_from_directory(batch_size=batch_size,\n",
        "                                                              directory=validation_dir,\n",
        "                                                              target_size=(IMG_HEIGHT, IMG_WIDTH),\n",
        "                                                              class_mode='binary')\n",
        "model3 = Sequential()\n",
        "model3.add(Conv2D(32, (3, 3), activation='relu', input_shape=(224, 224, 3)))\n",
        "model3.add(MaxPool2D((2,2)))\n",
        "model3.add(Conv2D(64, (3, 3), activation='relu'))\n",
        "model3.add(MaxPool2D((2,2)))\n",
        "model3.add(Conv2D(64, (1, 1), activation='relu'))\n",
        "model3.add(Flatten())\n",
        "model3.add(Dense(64, activation='relu'))\n",
        "model3.add(Dense(1, activation='softmax'))\n",
        "\n",
        "model3.compile(optimizer='nadam',loss='binary_crossentropy',metrics=['accuracy'])\n",
        "\n",
        "history3 = model3.fit(\n",
        "    train_data_gen,\n",
        "    steps_per_epoch=total_train // batch_size,\n",
        "    epochs=epochs,\n",
        "    validation_data=val_data_gen,\n",
        "    validation_steps=total_val // batch_size\n",
        ")"
      ],
      "execution_count": 15,
      "outputs": [
        {
          "output_type": "stream",
          "text": [
            "Found 533 images belonging to 2 classes.\n",
            "Found 195 images belonging to 2 classes.\n",
            "Epoch 1/50\n",
            "32/32 [==============================] - 8s 257ms/step - loss: 7.8529 - accuracy: 0.4850 - val_loss: 5.4585 - val_accuracy: 0.6420\n",
            "Epoch 2/50\n",
            "32/32 [==============================] - 8s 255ms/step - loss: 7.9442 - accuracy: 0.4790 - val_loss: 5.3719 - val_accuracy: 0.6477\n",
            "Epoch 3/50\n",
            "32/32 [==============================] - 8s 253ms/step - loss: 7.9138 - accuracy: 0.4810 - val_loss: 5.1120 - val_accuracy: 0.6648\n",
            "Epoch 4/50\n",
            "32/32 [==============================] - 8s 253ms/step - loss: 7.8529 - accuracy: 0.4850 - val_loss: 5.4585 - val_accuracy: 0.6420\n",
            "Epoch 5/50\n",
            "32/32 [==============================] - 8s 254ms/step - loss: 7.9442 - accuracy: 0.4790 - val_loss: 5.1120 - val_accuracy: 0.6648\n",
            "Epoch 6/50\n",
            "32/32 [==============================] - 8s 251ms/step - loss: 7.7616 - accuracy: 0.4910 - val_loss: 4.9387 - val_accuracy: 0.6761\n",
            "Epoch 7/50\n",
            "32/32 [==============================] - 8s 251ms/step - loss: 7.6398 - accuracy: 0.4990 - val_loss: 5.0253 - val_accuracy: 0.6705\n",
            "Epoch 8/50\n",
            "32/32 [==============================] - 8s 254ms/step - loss: 7.8529 - accuracy: 0.4850 - val_loss: 5.2852 - val_accuracy: 0.6534\n",
            "Epoch 9/50\n",
            "32/32 [==============================] - 8s 257ms/step - loss: 7.7312 - accuracy: 0.4930 - val_loss: 5.3719 - val_accuracy: 0.6477\n",
            "Epoch 10/50\n",
            "32/32 [==============================] - 8s 252ms/step - loss: 7.8529 - accuracy: 0.4850 - val_loss: 5.1120 - val_accuracy: 0.6648\n",
            "Epoch 11/50\n",
            "32/32 [==============================] - 8s 254ms/step - loss: 7.9442 - accuracy: 0.4790 - val_loss: 4.9387 - val_accuracy: 0.6761\n",
            "Epoch 12/50\n",
            "32/32 [==============================] - 8s 255ms/step - loss: 7.9138 - accuracy: 0.4810 - val_loss: 5.0253 - val_accuracy: 0.6705\n",
            "Epoch 13/50\n",
            "32/32 [==============================] - 8s 255ms/step - loss: 7.8225 - accuracy: 0.4870 - val_loss: 5.0253 - val_accuracy: 0.6705\n",
            "Epoch 14/50\n",
            "32/32 [==============================] - 8s 254ms/step - loss: 7.8833 - accuracy: 0.4830 - val_loss: 4.7654 - val_accuracy: 0.6875\n",
            "Epoch 15/50\n",
            "32/32 [==============================] - 8s 252ms/step - loss: 7.7007 - accuracy: 0.4950 - val_loss: 4.9387 - val_accuracy: 0.6761\n",
            "Epoch 16/50\n",
            "32/32 [==============================] - 8s 255ms/step - loss: 7.9138 - accuracy: 0.4810 - val_loss: 4.8520 - val_accuracy: 0.6818\n",
            "Epoch 17/50\n",
            "32/32 [==============================] - 8s 258ms/step - loss: 7.8529 - accuracy: 0.4850 - val_loss: 5.1120 - val_accuracy: 0.6648\n",
            "Epoch 18/50\n",
            "32/32 [==============================] - 8s 258ms/step - loss: 7.9747 - accuracy: 0.4770 - val_loss: 4.9387 - val_accuracy: 0.6761\n",
            "Epoch 19/50\n",
            "32/32 [==============================] - 8s 260ms/step - loss: 7.8833 - accuracy: 0.4830 - val_loss: 5.1120 - val_accuracy: 0.6648\n",
            "Epoch 20/50\n",
            "32/32 [==============================] - 9s 269ms/step - loss: 7.9442 - accuracy: 0.4790 - val_loss: 5.4585 - val_accuracy: 0.6420\n",
            "Epoch 21/50\n",
            "32/32 [==============================] - 8s 264ms/step - loss: 7.9138 - accuracy: 0.4810 - val_loss: 5.3719 - val_accuracy: 0.6477\n",
            "Epoch 22/50\n",
            "32/32 [==============================] - 8s 257ms/step - loss: 7.8225 - accuracy: 0.4870 - val_loss: 5.2852 - val_accuracy: 0.6534\n",
            "Epoch 23/50\n",
            "32/32 [==============================] - 8s 258ms/step - loss: 7.9747 - accuracy: 0.4770 - val_loss: 5.4585 - val_accuracy: 0.6420\n",
            "Epoch 24/50\n",
            "32/32 [==============================] - 8s 258ms/step - loss: 7.8833 - accuracy: 0.4830 - val_loss: 5.3719 - val_accuracy: 0.6477\n",
            "Epoch 25/50\n",
            "32/32 [==============================] - 8s 253ms/step - loss: 7.7616 - accuracy: 0.4910 - val_loss: 5.2852 - val_accuracy: 0.6534\n",
            "Epoch 26/50\n",
            "32/32 [==============================] - 8s 250ms/step - loss: 7.8225 - accuracy: 0.4870 - val_loss: 5.1986 - val_accuracy: 0.6591\n",
            "Epoch 27/50\n",
            "32/32 [==============================] - 8s 251ms/step - loss: 7.8833 - accuracy: 0.4830 - val_loss: 5.0253 - val_accuracy: 0.6705\n",
            "Epoch 28/50\n",
            "32/32 [==============================] - 8s 252ms/step - loss: 7.8225 - accuracy: 0.4870 - val_loss: 4.8520 - val_accuracy: 0.6818\n",
            "Epoch 29/50\n",
            "32/32 [==============================] - 8s 250ms/step - loss: 7.8833 - accuracy: 0.4830 - val_loss: 5.1120 - val_accuracy: 0.6648\n",
            "Epoch 30/50\n",
            "32/32 [==============================] - 8s 251ms/step - loss: 8.0355 - accuracy: 0.4731 - val_loss: 5.4585 - val_accuracy: 0.6420\n",
            "Epoch 31/50\n",
            "32/32 [==============================] - 8s 254ms/step - loss: 7.7312 - accuracy: 0.4930 - val_loss: 5.3719 - val_accuracy: 0.6477\n",
            "Epoch 32/50\n",
            "32/32 [==============================] - 8s 248ms/step - loss: 7.7007 - accuracy: 0.4950 - val_loss: 5.1986 - val_accuracy: 0.6591\n",
            "Epoch 33/50\n",
            "32/32 [==============================] - 8s 252ms/step - loss: 7.8331 - accuracy: 0.4863 - val_loss: 5.3719 - val_accuracy: 0.6477\n",
            "Epoch 34/50\n",
            "32/32 [==============================] - 8s 248ms/step - loss: 7.9138 - accuracy: 0.4810 - val_loss: 5.1986 - val_accuracy: 0.6591\n",
            "Epoch 35/50\n",
            "32/32 [==============================] - 8s 248ms/step - loss: 7.9138 - accuracy: 0.4810 - val_loss: 5.4585 - val_accuracy: 0.6420\n",
            "Epoch 36/50\n",
            "32/32 [==============================] - 8s 249ms/step - loss: 7.8529 - accuracy: 0.4850 - val_loss: 5.3719 - val_accuracy: 0.6477\n",
            "Epoch 37/50\n",
            "32/32 [==============================] - 8s 249ms/step - loss: 7.7312 - accuracy: 0.4930 - val_loss: 5.1986 - val_accuracy: 0.6591\n",
            "Epoch 38/50\n",
            "32/32 [==============================] - 8s 250ms/step - loss: 7.9442 - accuracy: 0.4790 - val_loss: 5.1120 - val_accuracy: 0.6648\n",
            "Epoch 39/50\n",
            "32/32 [==============================] - 8s 248ms/step - loss: 7.8529 - accuracy: 0.4850 - val_loss: 4.9387 - val_accuracy: 0.6761\n",
            "Epoch 40/50\n",
            "32/32 [==============================] - 8s 250ms/step - loss: 7.8225 - accuracy: 0.4870 - val_loss: 5.3719 - val_accuracy: 0.6477\n",
            "Epoch 41/50\n",
            "32/32 [==============================] - 8s 250ms/step - loss: 7.8225 - accuracy: 0.4870 - val_loss: 5.3719 - val_accuracy: 0.6477\n",
            "Epoch 42/50\n",
            "32/32 [==============================] - 8s 251ms/step - loss: 7.8833 - accuracy: 0.4830 - val_loss: 5.1120 - val_accuracy: 0.6648\n",
            "Epoch 43/50\n",
            "32/32 [==============================] - 8s 252ms/step - loss: 7.7920 - accuracy: 0.4890 - val_loss: 5.1120 - val_accuracy: 0.6648\n",
            "Epoch 44/50\n",
            "32/32 [==============================] - 8s 252ms/step - loss: 7.7312 - accuracy: 0.4930 - val_loss: 5.2852 - val_accuracy: 0.6534\n",
            "Epoch 45/50\n",
            "32/32 [==============================] - 8s 253ms/step - loss: 7.9442 - accuracy: 0.4790 - val_loss: 5.1986 - val_accuracy: 0.6591\n",
            "Epoch 46/50\n",
            "32/32 [==============================] - 8s 256ms/step - loss: 7.7735 - accuracy: 0.4902 - val_loss: 5.1120 - val_accuracy: 0.6648\n",
            "Epoch 47/50\n",
            "32/32 [==============================] - 8s 252ms/step - loss: 7.9747 - accuracy: 0.4770 - val_loss: 4.8520 - val_accuracy: 0.6818\n",
            "Epoch 48/50\n",
            "32/32 [==============================] - 8s 251ms/step - loss: 7.8529 - accuracy: 0.4850 - val_loss: 5.4585 - val_accuracy: 0.6420\n",
            "Epoch 49/50\n",
            "32/32 [==============================] - 8s 251ms/step - loss: 7.8529 - accuracy: 0.4850 - val_loss: 5.3719 - val_accuracy: 0.6477\n",
            "Epoch 50/50\n",
            "32/32 [==============================] - 8s 257ms/step - loss: 7.9138 - accuracy: 0.4810 - val_loss: 5.1986 - val_accuracy: 0.6591\n"
          ],
          "name": "stdout"
        }
      ]
    },
    {
      "cell_type": "markdown",
      "metadata": {
        "colab_type": "text",
        "id": "uT3UV3gap9H6"
      },
      "source": [
        "# Resources and Stretch Goals\n",
        "\n",
        "Stretch goals\n",
        "- Enhance your code to use classes/functions and accept terms to search and classes to look for in recognizing the downloaded images (e.g. download images of parties, recognize all that contain balloons)\n",
        "- Check out [other available pretrained networks](https://tfhub.dev), try some and compare\n",
        "- Image recognition/classification is somewhat solved, but *relationships* between entities and describing an image is not - check out some of the extended resources (e.g. [Visual Genome](https://visualgenome.org/)) on the topic\n",
        "- Transfer learning - using images you source yourself, [retrain a classifier](https://www.tensorflow.org/hub/tutorials/image_retraining) with a new category\n",
        "- (Not CNN related) Use [piexif](https://pypi.org/project/piexif/) to check out the metadata of images passed in to your system - see if they're from a national park! (Note - many images lack GPS metadata, so this won't work in most cases, but still cool)\n",
        "\n",
        "Resources\n",
        "- [Deep Residual Learning for Image Recognition](https://arxiv.org/abs/1512.03385) - influential paper (introduced ResNet)\n",
        "- [YOLO: Real-Time Object Detection](https://pjreddie.com/darknet/yolo/) - an influential convolution based object detection system, focused on inference speed (for applications to e.g. self driving vehicles)\n",
        "- [R-CNN, Fast R-CNN, Faster R-CNN, YOLO](https://towardsdatascience.com/r-cnn-fast-r-cnn-faster-r-cnn-yolo-object-detection-algorithms-36d53571365e) - comparison of object detection systems\n",
        "- [Common Objects in Context](http://cocodataset.org/) - a large-scale object detection, segmentation, and captioning dataset\n",
        "- [Visual Genome](https://visualgenome.org/) - a dataset, a knowledge base, an ongoing effort to connect structured image concepts to language"
      ]
    }
  ]
}